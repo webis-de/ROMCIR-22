{
 "cells": [
  {
   "cell_type": "code",
   "execution_count": 2,
   "id": "2c685bd9",
   "metadata": {
    "scrolled": true
   },
   "outputs": [],
   "source": [
    "from pygaggle.rerank.base import Query, Text\n",
    "from pygaggle.rerank.transformer import MonoT5, MonoBERT\n",
    "from pyserini.search import SimpleSearcher\n",
    "from trectools import TrecRun\n",
    "from tqdm import tqdm\n",
    "DOCS_TO_RERANK = 100\n",
    "\n",
    "DATA_DIR = '/mnt/ceph/storage/data-in-progress/data-research/web-search/romcir22-keyquery/'"
   ]
  },
  {
   "cell_type": "code",
   "execution_count": 7,
   "id": "a8198cc6",
   "metadata": {},
   "outputs": [
    {
     "name": "stdout",
     "output_type": "stream",
     "text": [
      "Tue Mar  1 11:33:55 2022       \n",
      "+-----------------------------------------------------------------------------+\n",
      "| NVIDIA-SMI 460.84       Driver Version: 460.84       CUDA Version: 11.2     |\n",
      "|-------------------------------+----------------------+----------------------+\n",
      "| GPU  Name        Persistence-M| Bus-Id        Disp.A | Volatile Uncorr. ECC |\n",
      "| Fan  Temp  Perf  Pwr:Usage/Cap|         Memory-Usage | GPU-Util  Compute M. |\n",
      "|                               |                      |               MIG M. |\n",
      "|===============================+======================+======================|\n",
      "|   0  A100-SXM4-40GB      Off  | 00000000:41:00.0 Off |                    0 |\n",
      "| N/A   21C    P0    58W / 400W |   4080MiB / 40536MiB |      0%      Default |\n",
      "|                               |                      |             Disabled |\n",
      "+-------------------------------+----------------------+----------------------+\n",
      "|   1  A100-SXM4-40GB      Off  | 00000000:81:00.0 Off |                    0 |\n",
      "| N/A   17C    P0    51W / 400W |      3MiB / 40536MiB |      0%      Default |\n",
      "|                               |                      |             Disabled |\n",
      "+-------------------------------+----------------------+----------------------+\n",
      "                                                                               \n",
      "+-----------------------------------------------------------------------------+\n",
      "| Processes:                                                                  |\n",
      "|  GPU   GI   CI        PID   Type   Process name                  GPU Memory |\n",
      "|        ID   ID                                                   Usage      |\n",
      "|=============================================================================|\n",
      "|    0   N/A  N/A   1609563      C   /usr/bin/python3                 4077MiB |\n",
      "+-----------------------------------------------------------------------------+\n"
     ]
    }
   ],
   "source": [
    "!nvidia-smi"
   ]
  },
  {
   "cell_type": "code",
   "execution_count": 8,
   "id": "a6a4cb13",
   "metadata": {},
   "outputs": [],
   "source": [
    "MONO_T5_RERANKERS = {\n",
    "    'castorini/monot5-base-msmarco': MonoT5(),\n",
    "}"
   ]
  },
  {
   "cell_type": "code",
   "execution_count": 9,
   "id": "1ff14a04",
   "metadata": {},
   "outputs": [],
   "source": [
    "MONO_BERT_RERANKERS = {\n",
    "    'castorini/monobert-large-msmarco': MonoBERT(),\n",
    "}"
   ]
  },
  {
   "cell_type": "code",
   "execution_count": 10,
   "id": "00648804",
   "metadata": {},
   "outputs": [],
   "source": [
    "def load_index(index_name):\n",
    "    return SimpleSearcher(DATA_DIR + '/indexes-judged-only/' + index_name)\n",
    "\n",
    "def get_doc_text(index_name, doc_id):\n",
    "    try:\n",
    "        return INDEXES[index_name].doc(doc_id).contents()\n",
    "    except:\n",
    "        return ''\n",
    "\n",
    "INDEXES = {\n",
    "    'hmi-19': load_index('lucene-index.cw12-judged-only-raw'),\n",
    "    'hmi-20': load_index('lucene-index.cc-news-20-judged-only-raw'),\n",
    "    'hmi-21': load_index('lucene-index.c4noclean'),\n",
    "}\n",
    "\n",
    "RUNS = {\n",
    "    'hmi-19': TrecRun(DATA_DIR + '/runs/hmi-19/run.hmi19.bm25_bm25(k1=0.9,b=0.4)_default'),\n",
    "    'hmi-20': TrecRun(DATA_DIR + '/runs/hmi-20/run.hmi20.bm25_bm25(k1=0.9,b=0.4)_default'),\n",
    "    'hmi-21': TrecRun(DATA_DIR + '/runs/hmi-21/run.hmi21.bm25_bm25(k1=0.9,b=0.4)_default'),\n",
    "}\n"
   ]
  },
  {
   "cell_type": "code",
   "execution_count": 12,
   "id": "4337e362",
   "metadata": {},
   "outputs": [],
   "source": [
    "# Some final Smoke Tests\n",
    "assert get_doc_text('hmi-19', 'clueweb12-1712wb-84-02961').startswith('Urinary Tract Infection Alternative Treatment- are Cranberries the Only U.t.i. Natural Cure?')\n",
    "assert get_doc_text('hmi-20', '547e72c3-17f1-476a-a3c4-e00b2a97d98c').startswith('Coronavirus threat to global Vitamin D Ingredients Market In-Depth Analysis Of Competitive Landscape')\n",
    "assert get_doc_text('hmi-21', 'en.noclean.c4-train.04871-of-07168.129759').startswith('Best Ankle Brace for Achilles Tendonitis - ')"
   ]
  },
  {
   "cell_type": "code",
   "execution_count": 13,
   "id": "743201ca",
   "metadata": {},
   "outputs": [],
   "source": [
    "def docs_for_topic(index_name, topic_number):\n",
    "    df = RUNS[index_name].run_data\n",
    "    return [i for i in df[df['query'].astype(int) == int(topic_number)].docid[:DOCS_TO_RERANK]]\n",
    "\n",
    "def rerank_with_mono_t5(index_name, topic, query, reranker):\n",
    "    import contextlib\n",
    "    import io\n",
    "\n",
    "    with contextlib.redirect_stderr(io.StringIO()), contextlib.redirect_stdout(io.StringIO()):\n",
    "        documents = [Text(get_doc_text(index_name, i), {'docid': i}, 0) for i in docs_for_topic(index_name, topic)]\n",
    "        ret = sorted(reranker.rerank(Query(query), documents), key=lambda i: i.score, reverse=True)\n",
    "\n",
    "        return [{'score': i.score, 'id': i.metadata['docid'], 'body': i.text} for i in ret]\n",
    "\n",
    "def queries(index_name):\n",
    "    import json\n",
    "    ret = []\n",
    "    with open('../../../../third-party/health-misinfo-' + str(int(index_name.split('-')[1])) + '/topics.jsonl', 'r') as f:\n",
    "        for l in f:\n",
    "            l = json.loads(l)\n",
    "            ret += [(int(l['topic']), l['title'])]\n",
    "    return ret"
   ]
  },
  {
   "cell_type": "code",
   "execution_count": 14,
   "id": "cf757c55",
   "metadata": {},
   "outputs": [
    {
     "name": "stderr",
     "output_type": "stream",
     "text": [
      "100%|██████████| 51/51 [03:43<00:00,  4.39s/it]\n",
      "100%|██████████| 50/50 [02:03<00:00,  2.48s/it]\n",
      "100%|██████████| 50/50 [05:10<00:00,  6.21s/it]\n"
     ]
    }
   ],
   "source": [
    "for dataset in ['hmi-19', 'hmi-20', 'hmi-21']:\n",
    "    for model_name, model in MONO_T5_RERANKERS.items():\n",
    "        tag = model_name.replace('/', '-')\n",
    "        year = int(dataset.split('-')[1])\n",
    "        !mkdir -p {year}/{dataset}-{tag}\n",
    "        with open(str(year) + '/' + dataset + '-' + tag + '/run.txt', 'w') as out_file:\n",
    "            for query_id, query in tqdm(queries(dataset)):\n",
    "                for i in zip(range(DOCS_TO_RERANK), rerank_with_mono_t5(dataset, query_id, query, model)):\n",
    "                    out_file.write(str(query_id) + ' Q0 ' + i[1]['id'] + ' ' + str(i[0] + 1) + ' ' + str(i[1]['score']) + ' ' + tag + '\\n')"
   ]
  },
  {
   "cell_type": "code",
   "execution_count": 15,
   "id": "cca9a1bb",
   "metadata": {},
   "outputs": [
    {
     "name": "stdout",
     "output_type": "stream",
     "text": [
      "mkdir: cannot create directory ‘19/hmi-19-castorini-monobert-large-msmarco’: File exists\r\n"
     ]
    },
    {
     "name": "stderr",
     "output_type": "stream",
     "text": [
      "100%|██████████| 51/51 [05:48<00:00,  6.83s/it]\n"
     ]
    },
    {
     "name": "stdout",
     "output_type": "stream",
     "text": [
      "mkdir: cannot create directory ‘20/hmi-20-castorini-monobert-large-msmarco’: File exists\r\n"
     ]
    },
    {
     "name": "stderr",
     "output_type": "stream",
     "text": [
      "100%|██████████| 50/50 [04:29<00:00,  5.39s/it]\n"
     ]
    },
    {
     "name": "stdout",
     "output_type": "stream",
     "text": [
      "mkdir: cannot create directory ‘21/hmi-21-castorini-monobert-large-msmarco’: File exists\r\n"
     ]
    },
    {
     "name": "stderr",
     "output_type": "stream",
     "text": [
      "100%|██████████| 50/50 [09:13<00:00, 11.08s/it]\n"
     ]
    }
   ],
   "source": [
    "for dataset in ['hmi-19', 'hmi-20', 'hmi-21']:\n",
    "    for model_name, model in MONO_BERT_RERANKERS.items():\n",
    "        tag = model_name.replace('/', '-')\n",
    "        year = int(dataset.split('-')[1])\n",
    "        !mkdir {year}/{dataset}-{tag}\n",
    "        with open(str(year) + '/' + dataset + '-' + tag + '/run.txt', 'w') as out_file:\n",
    "            for query_id, query in tqdm(queries(dataset)):\n",
    "                for i in zip(range(DOCS_TO_RERANK), rerank_with_mono_t5(dataset, query_id, query, model)):\n",
    "                    out_file.write(str(query_id) + ' Q0 ' + i[1]['id'] + ' ' + str(i[0] + 1) + ' ' + str(i[1]['score']) + ' ' + tag + '\\n')"
   ]
  }
 ],
 "metadata": {
  "kernelspec": {
   "display_name": "Python 3",
   "language": "python",
   "name": "python3"
  },
  "language_info": {
   "codemirror_mode": {
    "name": "ipython",
    "version": 3
   },
   "file_extension": ".py",
   "mimetype": "text/x-python",
   "name": "python",
   "nbconvert_exporter": "python",
   "pygments_lexer": "ipython3",
   "version": "3.6.9"
  }
 },
 "nbformat": 4,
 "nbformat_minor": 5
}
