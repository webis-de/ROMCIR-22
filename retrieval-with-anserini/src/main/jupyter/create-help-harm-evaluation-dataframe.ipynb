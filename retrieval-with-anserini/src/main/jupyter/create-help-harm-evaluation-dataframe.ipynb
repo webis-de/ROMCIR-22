{
 "cells": [
  {
   "cell_type": "markdown",
   "id": "251952d0",
   "metadata": {},
   "source": [
    "# Create Help/Harm Evaluation Dataframe\n",
    "\n",
    "Since the evaluation takes a while (approximately 1 hour), we create the evaluation dataframe "
   ]
  },
  {
   "cell_type": "code",
   "execution_count": 2,
   "id": "a0919e85",
   "metadata": {},
   "outputs": [
    {
     "data": {
      "text/plain": [
       "{'helpful': {1: 0.0018,\n",
       "  4: 0.0003,\n",
       "  5: 0.6091,\n",
       "  6: 0.0392,\n",
       "  8: 0.0612,\n",
       "  9: 0.0547,\n",
       "  10: 0.4313,\n",
       "  11: 0.0079,\n",
       "  12: 0.1569,\n",
       "  13: 0.0105,\n",
       "  15: 0.1562,\n",
       "  16: 0.0,\n",
       "  19: 0.7326,\n",
       "  20: 0.4236,\n",
       "  21: 0.3954,\n",
       "  23: 0.1397,\n",
       "  25: 0.173,\n",
       "  26: 0.0399,\n",
       "  27: 0.272,\n",
       "  28: 0.3773,\n",
       "  29: 0.366,\n",
       "  31: 0.0,\n",
       "  34: 0.1664,\n",
       "  36: 0.931,\n",
       "  37: 0.1565,\n",
       "  38: 0.1247,\n",
       "  39: 0.6595,\n",
       "  40: 0.0018,\n",
       "  41: 0.0362,\n",
       "  42: 0.0,\n",
       "  43: 0.3963,\n",
       "  44: 0.0085,\n",
       "  45: 0.3356,\n",
       "  46: 0.4736,\n",
       "  47: 0.1247,\n",
       "  48: 0.0202,\n",
       "  49: 0.1431,\n",
       "  50: 0.1195,\n",
       "  51: 0.019,\n",
       "  'all': 0.2094},\n",
       " 'harmful': {1: 0.0855,\n",
       "  2: 0.5059,\n",
       "  3: 0.4817,\n",
       "  4: 0.5332,\n",
       "  5: 0.2746,\n",
       "  6: 0.7982,\n",
       "  7: 0.4073,\n",
       "  8: 0.0438,\n",
       "  9: 0.3189,\n",
       "  10: 0.2742,\n",
       "  11: 0.0002,\n",
       "  12: 0.1926,\n",
       "  13: 0.6148,\n",
       "  15: 0.5872,\n",
       "  16: 0.4107,\n",
       "  17: 0.4437,\n",
       "  18: 0.3304,\n",
       "  19: 0.0156,\n",
       "  20: 0.1383,\n",
       "  21: 0.2036,\n",
       "  22: 0.2109,\n",
       "  23: 0.2573,\n",
       "  24: 0.0264,\n",
       "  25: 0.2887,\n",
       "  26: 0.0758,\n",
       "  27: 0.4058,\n",
       "  28: 0.5825,\n",
       "  29: 0.1741,\n",
       "  30: 0.1381,\n",
       "  31: 0.3912,\n",
       "  32: 0.1593,\n",
       "  33: 0.9549,\n",
       "  34: 0.2804,\n",
       "  35: 0.2125,\n",
       "  37: 0.1192,\n",
       "  38: 0.0987,\n",
       "  39: 0.0672,\n",
       "  40: 0.5165,\n",
       "  41: 0.2477,\n",
       "  42: 0.6023,\n",
       "  43: 0.5108,\n",
       "  44: 0.4984,\n",
       "  45: 0.1108,\n",
       "  46: 0.4818,\n",
       "  47: 0.5373,\n",
       "  48: 0.7387,\n",
       "  49: 0.3168,\n",
       "  50: 0.0813,\n",
       "  51: 0.1125,\n",
       "  'all': 0.3236}}"
      ]
     },
     "execution_count": 2,
     "metadata": {},
     "output_type": "execute_result"
    }
   ],
   "source": [
    "from glob import glob\n",
    "from tqdm import tqdm\n",
    "import pandas as pd\n",
    "\n",
    "RUN_DIR='/mnt/ceph/storage/data-in-progress/data-research/web-search/romcir22-keyquery/runs/'\n",
    "\n",
    "\n",
    "def compatibility(qrels, run):\n",
    "    compatibility_output = !python3 ../../../../third-party/compatibility.py \"{qrels}\" \"{run}\"\n",
    "    ret = {}\n",
    "    for line in compatibility_output:\n",
    "        line = line.split()\n",
    "        assert len(line) == 3 and line[0] == 'compatibility'\n",
    "        topic = line[1]\n",
    "        if topic != 'all':\n",
    "            topic = int(topic)\n",
    "        \n",
    "        ret[topic] = float(line[2])\n",
    "    \n",
    "    return ret\n",
    "\n",
    "def evaluate_run(year, run):\n",
    "    return {\n",
    "        'helpful': compatibility('../../../../third-party/health-misinfo-' + str(year) + '/misinfo-qrels-graded.helpful-only', run),\n",
    "        'harmful': compatibility('../../../../third-party/health-misinfo-' + str(year) + '/misinfo-qrels-graded.harmful-only', run),\n",
    "    }\n",
    "    \n",
    "\n",
    "evaluate_run(19, RUN_DIR + '/hmi-19/run.hmi19.bm25_bm25(k1=0.7,b=0.35)_default')"
   ]
  },
  {
   "cell_type": "code",
   "execution_count": 4,
   "id": "3a0139cd",
   "metadata": {},
   "outputs": [
    {
     "name": "stderr",
     "output_type": "stream",
     "text": [
      "100%|█████████████████████████████████████████████████████████████████████████████████████████████████████████| 1823/1823 [13:43<00:00,  2.21it/s]\n",
      "100%|█████████████████████████████████████████████████████████████████████████████████████████████████████████| 1823/1823 [16:32<00:00,  1.84it/s]\n",
      "100%|█████████████████████████████████████████████████████████████████████████████████████████████████████████| 1823/1823 [16:17<00:00,  1.86it/s]\n"
     ]
    }
   ],
   "source": [
    "df = []\n",
    "\n",
    "for year in [19, 20, 21]:\n",
    "    runs = glob(RUN_DIR + 'hmi-' + str(year) + '*/*')\n",
    "    for run in tqdm(runs):\n",
    "        eval_result = evaluate_run(year, run)\n",
    "        \n",
    "        df += [{\n",
    "            'year': year,\n",
    "            'run': run,\n",
    "            'helpful': eval_result['helpful'],\n",
    "            'harmful': eval_result['harmful'],\n",
    "        }]\n",
    "\n",
    "df = pd.DataFrame(df)"
   ]
  },
  {
   "cell_type": "code",
   "execution_count": 7,
   "id": "9a88afc8",
   "metadata": {},
   "outputs": [],
   "source": [
    "df.to_json('../resources/help-harm-results.jsonl', lines=True, orient='records')"
   ]
  },
  {
   "cell_type": "code",
   "execution_count": 9,
   "id": "9da59c76",
   "metadata": {},
   "outputs": [
    {
     "data": {
      "text/plain": [
       "'/mnt/ceph/storage/data-in-progress/data-research/web-search/romcir22-keyquery/runs/hmi-19-rm3/run.hmi19.bm25_bm25(k1=0.9,b=0.4)_sequential-relevance-feedback(Rm3RelevanceFeedback(fbDocs=10,fbTerms=9,originalQueryWeight:0.0);rel=3)-default'"
      ]
     },
     "execution_count": 9,
     "metadata": {},
     "output_type": "execute_result"
    }
   ],
   "source": [
    "df.iloc[0].run"
   ]
  },
  {
   "cell_type": "code",
   "execution_count": 13,
   "id": "b924ca78",
   "metadata": {},
   "outputs": [
    {
     "data": {
      "text/plain": [
       "['__class__',\n",
       " '__delattr__',\n",
       " '__dict__',\n",
       " '__dir__',\n",
       " '__doc__',\n",
       " '__eq__',\n",
       " '__format__',\n",
       " '__ge__',\n",
       " '__getattribute__',\n",
       " '__gt__',\n",
       " '__hash__',\n",
       " '__init__',\n",
       " '__init_subclass__',\n",
       " '__le__',\n",
       " '__lt__',\n",
       " '__module__',\n",
       " '__ne__',\n",
       " '__new__',\n",
       " '__reduce__',\n",
       " '__reduce_ex__',\n",
       " '__repr__',\n",
       " '__setattr__',\n",
       " '__sizeof__',\n",
       " '__str__',\n",
       " '__subclasshook__',\n",
       " '__weakref__',\n",
       " 'check_qrel_coverage',\n",
       " 'check_run_coverage',\n",
       " 'evaluate_run',\n",
       " 'filename',\n",
       " 'get_filename',\n",
       " 'get_full_filename_path',\n",
       " 'get_mean_coverage',\n",
       " 'get_runid',\n",
       " 'get_top_documents',\n",
       " 'print_subset',\n",
       " 'read_run',\n",
       " 'rename_runid',\n",
       " 'run_data',\n",
       " 'topics',\n",
       " 'topics_intersection_with']"
      ]
     },
     "execution_count": 13,
     "metadata": {},
     "output_type": "execute_result"
    }
   ],
   "source": [
    "from trectools import TrecRun\n",
    "\n",
    "run = TrecRun('/mnt/ceph/storage/data-in-progress/data-research/web-search/romcir22-keyquery/runs/hmi-19-rm3/run.hmi19.bm25_bm25(k1=0.9,b=0.4)_sequential-relevance-feedback(Rm3RelevanceFeedback(fbDocs=10,fbTerms=9,originalQueryWeight:0.0);rel=3)-default')\n",
    "dir(run)"
   ]
  },
  {
   "cell_type": "code",
   "execution_count": 63,
   "id": "a403fbaf",
   "metadata": {},
   "outputs": [],
   "source": [
    "def load_qrels(year):\n",
    "    from trectools import TrecQrel\n",
    "    \n",
    "    if year == 19:\n",
    "        return TrecQrel('../../../../third-party/health-misinfo-' + str(year) +'/2019qrels_relevance.txt').qrels_data\n",
    "    elif year == 20:\n",
    "        return TrecQrel('../../../../third-party/health-misinfo-' + str(year) + '/qrels/misinfo-2020-qrels-del-me').qrels_data\n",
    "    elif year == 21:\n",
    "        return TrecQrel('../../../../third-party/health-misinfo-' + str(year) + '/qrels/qrels-35topics-del-me.txt').qrels_data\n",
    "    else:\n",
    "        raise ValueError('blaaa')\n",
    "\n",
    "def remove_unjudged_runs(year, run_file):\n",
    "    import os.path\n",
    "    run = TrecRun(run_file).run_data\n",
    "    qrels = load_qrels(year)\n",
    "\n",
    "    onlyjudged = pd.merge(run, qrels[[\"query\",\"docid\",\"rel\"]], how=\"left\")\n",
    "    onlyjudged = onlyjudged[~onlyjudged[\"rel\"].isnull()]\n",
    "    run = onlyjudged[[\"query\",\"q0\",\"docid\",\"rank\",\"score\",\"system\"]]\n",
    "\n",
    "    trecformat = run.sort_values([\"query\", \"score\", \"docid\"], ascending=[True,False,False]).reset_index()\n",
    "    topX = trecformat.groupby(\"query\")[[\"query\",\"q0\",\"docid\",\"rank\",\"score\",\"system\"]].head(250)\n",
    "\n",
    "    topX[\"rank\"] = 1\n",
    "    topX[\"rank\"] = topX.groupby(\"query\")[\"rank\"].cumsum()\n",
    "\n",
    "    run_file = run_file.replace('/runs/', '/runs/only-judged/')\n",
    "\n",
    "    if os.path.isfile(run_file):\n",
    "        raise ValueError('Already exists...')\n",
    "        \n",
    "    topX.to_csv(run_file, sep=' ', header=False, index=False)"
   ]
  },
  {
   "cell_type": "code",
   "execution_count": 64,
   "id": "48d67a49",
   "metadata": {},
   "outputs": [
    {
     "name": "stderr",
     "output_type": "stream",
     "text": [
      "5469it [14:13,  6.41it/s]\n"
     ]
    }
   ],
   "source": [
    "for _, i in tqdm(df.iterrows()):\n",
    "    remove_unjudged_runs(i['year'], i['run'])"
   ]
  },
  {
   "cell_type": "code",
   "execution_count": 3,
   "id": "44622130",
   "metadata": {},
   "outputs": [
    {
     "name": "stderr",
     "output_type": "stream",
     "text": [
      "100%|█████████████████████████████████████████████████████████████████████████████████████████████████████████| 1823/1823 [09:20<00:00,  3.25it/s]\n",
      "100%|█████████████████████████████████████████████████████████████████████████████████████████████████████████| 1823/1823 [11:14<00:00,  2.70it/s]\n",
      "100%|█████████████████████████████████████████████████████████████████████████████████████████████████████████| 1823/1823 [10:49<00:00,  2.81it/s]\n"
     ]
    }
   ],
   "source": [
    "df_only_judged = []\n",
    "\n",
    "for year in [19, 20, 21]:\n",
    "    runs = glob(RUN_DIR + '/only-judged/hmi-' + str(year) + '*/*')\n",
    "    for run in tqdm(runs):\n",
    "        eval_result = evaluate_run(year, run)\n",
    "        \n",
    "        df_only_judged += [{\n",
    "            'year': year,\n",
    "            'run': run,\n",
    "            'helpful': eval_result['helpful'],\n",
    "            'harmful': eval_result['harmful'],\n",
    "        }]\n",
    "\n",
    "df_only_judged = pd.DataFrame(df_only_judged)"
   ]
  },
  {
   "cell_type": "code",
   "execution_count": 4,
   "id": "a8004053",
   "metadata": {},
   "outputs": [],
   "source": [
    "df_only_judged.to_json('../resources/help-harm-results-only-judged.jsonl', lines=True, orient='records')"
   ]
  },
  {
   "cell_type": "markdown",
   "id": "974026a4",
   "metadata": {},
   "source": [
    "# Trectools evaluation"
   ]
  },
  {
   "cell_type": "code",
   "execution_count": 3,
   "id": "89014cc4",
   "metadata": {},
   "outputs": [],
   "source": [
    "def load_all_qrels():\n",
    "    from trectools import TrecQrel\n",
    "    \n",
    "    ret = {}\n",
    "    for year in [19, 20, 21]:\n",
    "        ret[year] = {}\n",
    "        for annotation_type in ['helpful', 'harmful']:\n",
    "            ret[year][annotation_type] = TrecQrel('../../../../third-party/health-misinfo-' + str(year) + '/misinfo-qrels-graded.' + annotation_type + '-only')\n",
    "\n",
    "    return ret\n",
    "\n",
    "QRELS = load_all_qrels()"
   ]
  },
  {
   "cell_type": "code",
   "execution_count": 4,
   "id": "71bc5b31",
   "metadata": {},
   "outputs": [],
   "source": [
    "def trec_eval(year, run):\n",
    "    from trectools import TrecEval, TrecRun\n",
    "    ret = {}\n",
    "    run = TrecRun(run)\n",
    "    \n",
    "    for annotation_type in ['helpful', 'harmful']:\n",
    "        te = TrecEval(run, QRELS[year][annotation_type])\n",
    "        \n",
    "        ret['unjudged-at-10-' + annotation_type] = te.get_unjudged(depth=10)\n",
    "        ret['unjudged-at-20-' + annotation_type] = te.get_unjudged(depth=20)\n",
    "        ret['reciprocal-rank-' + annotation_type] = te.get_reciprocal_rank()\n",
    "        ret['reciprocal-rank-unjudged-removed-' + annotation_type] = te.get_reciprocal_rank(removeUnjudged=True)\n",
    "        ret['ndcg-at-10-rank-' + annotation_type] = te.get_ndcg(depth=10)\n",
    "        ret['ndcg-at-20-rank-' + annotation_type] = te.get_ndcg(depth=20)\n",
    "        \n",
    "        ret['ndcg-unjudged-removed-at-10-rank-' + annotation_type] = te.get_ndcg(depth=10, removeUnjudged=True)\n",
    "        ret['ndcg-unjudged-removed-at-20-rank-' + annotation_type] = te.get_ndcg(depth=20, removeUnjudged=True)\n",
    "        \n",
    "    return ret"
   ]
  },
  {
   "cell_type": "code",
   "execution_count": 5,
   "id": "9e3a6867",
   "metadata": {},
   "outputs": [
    {
     "data": {
      "text/plain": [
       "{'unjudged-at-10-helpful': 1.0153846153846153,\n",
       " 'unjudged-at-20-helpful': 1.0756410256410258,\n",
       " 'reciprocal-rank-helpful': 0.6590336134453781,\n",
       " 'reciprocal-rank-unjudged-removed-helpful': 0.6590336134453781,\n",
       " 'ndcg-at-10-rank-helpful': 0.36060401672001835,\n",
       " 'ndcg-at-20-rank-helpful': 0.3456352621269209,\n",
       " 'ndcg-unjudged-removed-at-10-rank-helpful': 0.6502097166760744,\n",
       " 'ndcg-unjudged-removed-at-20-rank-helpful': 0.644234309907788,\n",
       " 'unjudged-at-10-harmful': 0.8653061224489798,\n",
       " 'unjudged-at-20-harmful': 0.8765306122448979,\n",
       " 'reciprocal-rank-harmful': 0.20496173874334603,\n",
       " 'reciprocal-rank-unjudged-removed-harmful': 0.20496173874334603,\n",
       " 'ndcg-at-10-rank-harmful': 0.1296690535470495,\n",
       " 'ndcg-at-20-rank-harmful': 0.13651146752795193,\n",
       " 'ndcg-unjudged-removed-at-10-rank-harmful': 0.5877882420072763,\n",
       " 'ndcg-unjudged-removed-at-20-rank-harmful': 0.5798899403463031}"
      ]
     },
     "execution_count": 5,
     "metadata": {},
     "output_type": "execute_result"
    }
   ],
   "source": [
    "trec_eval(19, '/mnt/ceph/storage/data-in-progress/data-research/web-search/romcir22-keyquery/runs/hmi-19-rm3/run.hmi19.bm25_bm25(k1=0.9,b=0.4)_sequential-relevance-feedback(Rm3RelevanceFeedback(fbDocs=10,fbTerms=9,originalQueryWeight:0.0);rel=3)-default')"
   ]
  },
  {
   "cell_type": "code",
   "execution_count": 6,
   "id": "bc3c280b",
   "metadata": {},
   "outputs": [
    {
     "name": "stderr",
     "output_type": "stream",
     "text": [
      "  1%|█▏                                                                                                         | 21/1823 [00:17<24:32,  1.22it/s]\n"
     ]
    },
    {
     "ename": "KeyboardInterrupt",
     "evalue": "",
     "output_type": "error",
     "traceback": [
      "\u001b[0;31m---------------------------------------------------------------------------\u001b[0m",
      "\u001b[0;31mKeyboardInterrupt\u001b[0m                         Traceback (most recent call last)",
      "\u001b[0;32m/tmp/ipykernel_158979/142054693.py\u001b[0m in \u001b[0;36m<module>\u001b[0;34m\u001b[0m\n\u001b[1;32m      8\u001b[0m             \u001b[0;34m'run'\u001b[0m\u001b[0;34m:\u001b[0m \u001b[0mrun\u001b[0m\u001b[0;34m,\u001b[0m\u001b[0;34m\u001b[0m\u001b[0;34m\u001b[0m\u001b[0m\n\u001b[1;32m      9\u001b[0m         }\n\u001b[0;32m---> 10\u001b[0;31m         \u001b[0meval_result\u001b[0m\u001b[0;34m.\u001b[0m\u001b[0mupdate\u001b[0m\u001b[0;34m(\u001b[0m\u001b[0mtrec_eval\u001b[0m\u001b[0;34m(\u001b[0m\u001b[0myear\u001b[0m\u001b[0;34m,\u001b[0m \u001b[0mrun\u001b[0m\u001b[0;34m)\u001b[0m\u001b[0;34m)\u001b[0m\u001b[0;34m\u001b[0m\u001b[0;34m\u001b[0m\u001b[0m\n\u001b[0m\u001b[1;32m     11\u001b[0m \u001b[0;34m\u001b[0m\u001b[0m\n\u001b[1;32m     12\u001b[0m         \u001b[0mdf_trec_eval\u001b[0m \u001b[0;34m+=\u001b[0m \u001b[0;34m[\u001b[0m\u001b[0meval_result\u001b[0m\u001b[0;34m]\u001b[0m\u001b[0;34m\u001b[0m\u001b[0;34m\u001b[0m\u001b[0m\n",
      "\u001b[0;32m/tmp/ipykernel_158979/2241496664.py\u001b[0m in \u001b[0;36mtrec_eval\u001b[0;34m(year, run)\u001b[0m\n\u001b[1;32m      9\u001b[0m         \u001b[0mret\u001b[0m\u001b[0;34m[\u001b[0m\u001b[0;34m'unjudged-at-10-'\u001b[0m \u001b[0;34m+\u001b[0m \u001b[0mannotation_type\u001b[0m\u001b[0;34m]\u001b[0m \u001b[0;34m=\u001b[0m \u001b[0mte\u001b[0m\u001b[0;34m.\u001b[0m\u001b[0mget_unjudged\u001b[0m\u001b[0;34m(\u001b[0m\u001b[0mdepth\u001b[0m\u001b[0;34m=\u001b[0m\u001b[0;36m10\u001b[0m\u001b[0;34m)\u001b[0m\u001b[0;34m\u001b[0m\u001b[0;34m\u001b[0m\u001b[0m\n\u001b[1;32m     10\u001b[0m         \u001b[0mret\u001b[0m\u001b[0;34m[\u001b[0m\u001b[0;34m'unjudged-at-20-'\u001b[0m \u001b[0;34m+\u001b[0m \u001b[0mannotation_type\u001b[0m\u001b[0;34m]\u001b[0m \u001b[0;34m=\u001b[0m \u001b[0mte\u001b[0m\u001b[0;34m.\u001b[0m\u001b[0mget_unjudged\u001b[0m\u001b[0;34m(\u001b[0m\u001b[0mdepth\u001b[0m\u001b[0;34m=\u001b[0m\u001b[0;36m20\u001b[0m\u001b[0;34m)\u001b[0m\u001b[0;34m\u001b[0m\u001b[0;34m\u001b[0m\u001b[0m\n\u001b[0;32m---> 11\u001b[0;31m         \u001b[0mret\u001b[0m\u001b[0;34m[\u001b[0m\u001b[0;34m'reciprocal-rank-'\u001b[0m \u001b[0;34m+\u001b[0m \u001b[0mannotation_type\u001b[0m\u001b[0;34m]\u001b[0m \u001b[0;34m=\u001b[0m \u001b[0mte\u001b[0m\u001b[0;34m.\u001b[0m\u001b[0mget_reciprocal_rank\u001b[0m\u001b[0;34m(\u001b[0m\u001b[0;34m)\u001b[0m\u001b[0;34m\u001b[0m\u001b[0;34m\u001b[0m\u001b[0m\n\u001b[0m\u001b[1;32m     12\u001b[0m         \u001b[0mret\u001b[0m\u001b[0;34m[\u001b[0m\u001b[0;34m'reciprocal-rank-unjudged-removed-'\u001b[0m \u001b[0;34m+\u001b[0m \u001b[0mannotation_type\u001b[0m\u001b[0;34m]\u001b[0m \u001b[0;34m=\u001b[0m \u001b[0mte\u001b[0m\u001b[0;34m.\u001b[0m\u001b[0mget_reciprocal_rank\u001b[0m\u001b[0;34m(\u001b[0m\u001b[0mremoveUnjudged\u001b[0m\u001b[0;34m=\u001b[0m\u001b[0;32mTrue\u001b[0m\u001b[0;34m)\u001b[0m\u001b[0;34m\u001b[0m\u001b[0;34m\u001b[0m\u001b[0m\n\u001b[1;32m     13\u001b[0m         \u001b[0mret\u001b[0m\u001b[0;34m[\u001b[0m\u001b[0;34m'ndcg-at-10-rank-'\u001b[0m \u001b[0;34m+\u001b[0m \u001b[0mannotation_type\u001b[0m\u001b[0;34m]\u001b[0m \u001b[0;34m=\u001b[0m \u001b[0mte\u001b[0m\u001b[0;34m.\u001b[0m\u001b[0mget_ndcg\u001b[0m\u001b[0;34m(\u001b[0m\u001b[0mdepth\u001b[0m\u001b[0;34m=\u001b[0m\u001b[0;36m10\u001b[0m\u001b[0;34m)\u001b[0m\u001b[0;34m\u001b[0m\u001b[0;34m\u001b[0m\u001b[0m\n",
      "\u001b[0;32m/opt/conda/lib/python3.9/site-packages/trectools/trec_eval.py\u001b[0m in \u001b[0;36mget_reciprocal_rank\u001b[0;34m(self, depth, per_query, trec_eval, removeUnjudged)\u001b[0m\n\u001b[1;32m    278\u001b[0m \u001b[0;34m\u001b[0m\u001b[0m\n\u001b[1;32m    279\u001b[0m         \u001b[0;32mif\u001b[0m \u001b[0mtrec_eval\u001b[0m\u001b[0;34m:\u001b[0m\u001b[0;34m\u001b[0m\u001b[0;34m\u001b[0m\u001b[0m\n\u001b[0;32m--> 280\u001b[0;31m             \u001b[0mtrecformat\u001b[0m \u001b[0;34m=\u001b[0m \u001b[0mself\u001b[0m\u001b[0;34m.\u001b[0m\u001b[0mrun\u001b[0m\u001b[0;34m.\u001b[0m\u001b[0mrun_data\u001b[0m\u001b[0;34m.\u001b[0m\u001b[0msort_values\u001b[0m\u001b[0;34m(\u001b[0m\u001b[0;34m[\u001b[0m\u001b[0;34m\"query\"\u001b[0m\u001b[0;34m,\u001b[0m \u001b[0;34m\"score\"\u001b[0m\u001b[0;34m,\u001b[0m \u001b[0;34m\"docid\"\u001b[0m\u001b[0;34m]\u001b[0m\u001b[0;34m,\u001b[0m \u001b[0mascending\u001b[0m\u001b[0;34m=\u001b[0m\u001b[0;34m[\u001b[0m\u001b[0;32mTrue\u001b[0m\u001b[0;34m,\u001b[0m\u001b[0;32mFalse\u001b[0m\u001b[0;34m,\u001b[0m\u001b[0;32mFalse\u001b[0m\u001b[0;34m]\u001b[0m\u001b[0;34m)\u001b[0m\u001b[0;34m.\u001b[0m\u001b[0mreset_index\u001b[0m\u001b[0;34m(\u001b[0m\u001b[0;34m)\u001b[0m\u001b[0;34m\u001b[0m\u001b[0;34m\u001b[0m\u001b[0m\n\u001b[0m\u001b[1;32m    281\u001b[0m             \u001b[0mtopX\u001b[0m \u001b[0;34m=\u001b[0m \u001b[0mtrecformat\u001b[0m\u001b[0;34m.\u001b[0m\u001b[0mgroupby\u001b[0m\u001b[0;34m(\u001b[0m\u001b[0;34m\"query\"\u001b[0m\u001b[0;34m)\u001b[0m\u001b[0;34m[\u001b[0m\u001b[0;34m[\u001b[0m\u001b[0;34m\"query\"\u001b[0m\u001b[0;34m,\u001b[0m\u001b[0;34m\"docid\"\u001b[0m\u001b[0;34m,\u001b[0m\u001b[0;34m\"score\"\u001b[0m\u001b[0;34m]\u001b[0m\u001b[0;34m]\u001b[0m\u001b[0;34m.\u001b[0m\u001b[0mhead\u001b[0m\u001b[0;34m(\u001b[0m\u001b[0mdepth\u001b[0m\u001b[0;34m)\u001b[0m\u001b[0;34m\u001b[0m\u001b[0;34m\u001b[0m\u001b[0m\n\u001b[1;32m    282\u001b[0m         \u001b[0;32melse\u001b[0m\u001b[0;34m:\u001b[0m\u001b[0;34m\u001b[0m\u001b[0;34m\u001b[0m\u001b[0m\n",
      "\u001b[0;32m/opt/conda/lib/python3.9/site-packages/pandas/util/_decorators.py\u001b[0m in \u001b[0;36mwrapper\u001b[0;34m(*args, **kwargs)\u001b[0m\n\u001b[1;32m    309\u001b[0m                     \u001b[0mstacklevel\u001b[0m\u001b[0;34m=\u001b[0m\u001b[0mstacklevel\u001b[0m\u001b[0;34m,\u001b[0m\u001b[0;34m\u001b[0m\u001b[0;34m\u001b[0m\u001b[0m\n\u001b[1;32m    310\u001b[0m                 )\n\u001b[0;32m--> 311\u001b[0;31m             \u001b[0;32mreturn\u001b[0m \u001b[0mfunc\u001b[0m\u001b[0;34m(\u001b[0m\u001b[0;34m*\u001b[0m\u001b[0margs\u001b[0m\u001b[0;34m,\u001b[0m \u001b[0;34m**\u001b[0m\u001b[0mkwargs\u001b[0m\u001b[0;34m)\u001b[0m\u001b[0;34m\u001b[0m\u001b[0;34m\u001b[0m\u001b[0m\n\u001b[0m\u001b[1;32m    312\u001b[0m \u001b[0;34m\u001b[0m\u001b[0m\n\u001b[1;32m    313\u001b[0m         \u001b[0;32mreturn\u001b[0m \u001b[0mwrapper\u001b[0m\u001b[0;34m\u001b[0m\u001b[0;34m\u001b[0m\u001b[0m\n",
      "\u001b[0;32m/opt/conda/lib/python3.9/site-packages/pandas/core/frame.py\u001b[0m in \u001b[0;36msort_values\u001b[0;34m(self, by, axis, ascending, inplace, kind, na_position, ignore_index, key)\u001b[0m\n\u001b[1;32m   6251\u001b[0m                 ]\n\u001b[1;32m   6252\u001b[0m \u001b[0;34m\u001b[0m\u001b[0m\n\u001b[0;32m-> 6253\u001b[0;31m             indexer = lexsort_indexer(\n\u001b[0m\u001b[1;32m   6254\u001b[0m                 \u001b[0mkeys\u001b[0m\u001b[0;34m,\u001b[0m \u001b[0morders\u001b[0m\u001b[0;34m=\u001b[0m\u001b[0mascending\u001b[0m\u001b[0;34m,\u001b[0m \u001b[0mna_position\u001b[0m\u001b[0;34m=\u001b[0m\u001b[0mna_position\u001b[0m\u001b[0;34m,\u001b[0m \u001b[0mkey\u001b[0m\u001b[0;34m=\u001b[0m\u001b[0mkey\u001b[0m\u001b[0;34m\u001b[0m\u001b[0;34m\u001b[0m\u001b[0m\n\u001b[1;32m   6255\u001b[0m             )\n",
      "\u001b[0;32m/opt/conda/lib/python3.9/site-packages/pandas/core/sorting.py\u001b[0m in \u001b[0;36mlexsort_indexer\u001b[0;34m(keys, orders, na_position, key)\u001b[0m\n\u001b[1;32m    313\u001b[0m \u001b[0;34m\u001b[0m\u001b[0m\n\u001b[1;32m    314\u001b[0m     \u001b[0;32mfor\u001b[0m \u001b[0mk\u001b[0m\u001b[0;34m,\u001b[0m \u001b[0morder\u001b[0m \u001b[0;32min\u001b[0m \u001b[0mzip\u001b[0m\u001b[0;34m(\u001b[0m\u001b[0mkeys\u001b[0m\u001b[0;34m,\u001b[0m \u001b[0morders\u001b[0m\u001b[0;34m)\u001b[0m\u001b[0;34m:\u001b[0m\u001b[0;34m\u001b[0m\u001b[0;34m\u001b[0m\u001b[0m\n\u001b[0;32m--> 315\u001b[0;31m         \u001b[0mcat\u001b[0m \u001b[0;34m=\u001b[0m \u001b[0mCategorical\u001b[0m\u001b[0;34m(\u001b[0m\u001b[0mk\u001b[0m\u001b[0;34m,\u001b[0m \u001b[0mordered\u001b[0m\u001b[0;34m=\u001b[0m\u001b[0;32mTrue\u001b[0m\u001b[0;34m)\u001b[0m\u001b[0;34m\u001b[0m\u001b[0;34m\u001b[0m\u001b[0m\n\u001b[0m\u001b[1;32m    316\u001b[0m \u001b[0;34m\u001b[0m\u001b[0m\n\u001b[1;32m    317\u001b[0m         \u001b[0;32mif\u001b[0m \u001b[0mna_position\u001b[0m \u001b[0;32mnot\u001b[0m \u001b[0;32min\u001b[0m \u001b[0;34m[\u001b[0m\u001b[0;34m\"last\"\u001b[0m\u001b[0;34m,\u001b[0m \u001b[0;34m\"first\"\u001b[0m\u001b[0;34m]\u001b[0m\u001b[0;34m:\u001b[0m\u001b[0;34m\u001b[0m\u001b[0;34m\u001b[0m\u001b[0m\n",
      "\u001b[0;32m/opt/conda/lib/python3.9/site-packages/pandas/core/arrays/categorical.py\u001b[0m in \u001b[0;36m__init__\u001b[0;34m(self, values, categories, ordered, dtype, fastpath, copy)\u001b[0m\n\u001b[1;32m    430\u001b[0m         \u001b[0;32mif\u001b[0m \u001b[0mdtype\u001b[0m\u001b[0;34m.\u001b[0m\u001b[0mcategories\u001b[0m \u001b[0;32mis\u001b[0m \u001b[0;32mNone\u001b[0m\u001b[0;34m:\u001b[0m\u001b[0;34m\u001b[0m\u001b[0;34m\u001b[0m\u001b[0m\n\u001b[1;32m    431\u001b[0m             \u001b[0;32mtry\u001b[0m\u001b[0;34m:\u001b[0m\u001b[0;34m\u001b[0m\u001b[0;34m\u001b[0m\u001b[0m\n\u001b[0;32m--> 432\u001b[0;31m                 \u001b[0mcodes\u001b[0m\u001b[0;34m,\u001b[0m \u001b[0mcategories\u001b[0m \u001b[0;34m=\u001b[0m \u001b[0mfactorize\u001b[0m\u001b[0;34m(\u001b[0m\u001b[0mvalues\u001b[0m\u001b[0;34m,\u001b[0m \u001b[0msort\u001b[0m\u001b[0;34m=\u001b[0m\u001b[0;32mTrue\u001b[0m\u001b[0;34m)\u001b[0m\u001b[0;34m\u001b[0m\u001b[0;34m\u001b[0m\u001b[0m\n\u001b[0m\u001b[1;32m    433\u001b[0m             \u001b[0;32mexcept\u001b[0m \u001b[0mTypeError\u001b[0m \u001b[0;32mas\u001b[0m \u001b[0merr\u001b[0m\u001b[0;34m:\u001b[0m\u001b[0;34m\u001b[0m\u001b[0;34m\u001b[0m\u001b[0m\n\u001b[1;32m    434\u001b[0m                 \u001b[0mcodes\u001b[0m\u001b[0;34m,\u001b[0m \u001b[0mcategories\u001b[0m \u001b[0;34m=\u001b[0m \u001b[0mfactorize\u001b[0m\u001b[0;34m(\u001b[0m\u001b[0mvalues\u001b[0m\u001b[0;34m,\u001b[0m \u001b[0msort\u001b[0m\u001b[0;34m=\u001b[0m\u001b[0;32mFalse\u001b[0m\u001b[0;34m)\u001b[0m\u001b[0;34m\u001b[0m\u001b[0;34m\u001b[0m\u001b[0m\n",
      "\u001b[0;32m/opt/conda/lib/python3.9/site-packages/pandas/core/algorithms.py\u001b[0m in \u001b[0;36mfactorize\u001b[0;34m(values, sort, na_sentinel, size_hint)\u001b[0m\n\u001b[1;32m    764\u001b[0m \u001b[0;34m\u001b[0m\u001b[0m\n\u001b[1;32m    765\u001b[0m     \u001b[0;32mif\u001b[0m \u001b[0msort\u001b[0m \u001b[0;32mand\u001b[0m \u001b[0mlen\u001b[0m\u001b[0;34m(\u001b[0m\u001b[0muniques\u001b[0m\u001b[0;34m)\u001b[0m \u001b[0;34m>\u001b[0m \u001b[0;36m0\u001b[0m\u001b[0;34m:\u001b[0m\u001b[0;34m\u001b[0m\u001b[0;34m\u001b[0m\u001b[0m\n\u001b[0;32m--> 766\u001b[0;31m         uniques, codes = safe_sort(\n\u001b[0m\u001b[1;32m    767\u001b[0m             \u001b[0muniques\u001b[0m\u001b[0;34m,\u001b[0m \u001b[0mcodes\u001b[0m\u001b[0;34m,\u001b[0m \u001b[0mna_sentinel\u001b[0m\u001b[0;34m=\u001b[0m\u001b[0mna_sentinel\u001b[0m\u001b[0;34m,\u001b[0m \u001b[0massume_unique\u001b[0m\u001b[0;34m=\u001b[0m\u001b[0;32mTrue\u001b[0m\u001b[0;34m,\u001b[0m \u001b[0mverify\u001b[0m\u001b[0;34m=\u001b[0m\u001b[0;32mFalse\u001b[0m\u001b[0;34m\u001b[0m\u001b[0;34m\u001b[0m\u001b[0m\n\u001b[1;32m    768\u001b[0m         )\n",
      "\u001b[0;32m/opt/conda/lib/python3.9/site-packages/pandas/core/algorithms.py\u001b[0m in \u001b[0;36msafe_sort\u001b[0;34m(values, codes, na_sentinel, assume_unique, verify)\u001b[0m\n\u001b[1;32m   1797\u001b[0m     \u001b[0;32melse\u001b[0m\u001b[0;34m:\u001b[0m\u001b[0;34m\u001b[0m\u001b[0;34m\u001b[0m\u001b[0m\n\u001b[1;32m   1798\u001b[0m         \u001b[0;32mtry\u001b[0m\u001b[0;34m:\u001b[0m\u001b[0;34m\u001b[0m\u001b[0;34m\u001b[0m\u001b[0m\n\u001b[0;32m-> 1799\u001b[0;31m             \u001b[0msorter\u001b[0m \u001b[0;34m=\u001b[0m \u001b[0mvalues\u001b[0m\u001b[0;34m.\u001b[0m\u001b[0margsort\u001b[0m\u001b[0;34m(\u001b[0m\u001b[0;34m)\u001b[0m\u001b[0;34m\u001b[0m\u001b[0;34m\u001b[0m\u001b[0m\n\u001b[0m\u001b[1;32m   1800\u001b[0m             \u001b[0mordered\u001b[0m \u001b[0;34m=\u001b[0m \u001b[0mvalues\u001b[0m\u001b[0;34m.\u001b[0m\u001b[0mtake\u001b[0m\u001b[0;34m(\u001b[0m\u001b[0msorter\u001b[0m\u001b[0;34m)\u001b[0m\u001b[0;34m\u001b[0m\u001b[0;34m\u001b[0m\u001b[0m\n\u001b[1;32m   1801\u001b[0m         \u001b[0;32mexcept\u001b[0m \u001b[0mTypeError\u001b[0m\u001b[0;34m:\u001b[0m\u001b[0;34m\u001b[0m\u001b[0;34m\u001b[0m\u001b[0m\n",
      "\u001b[0;31mKeyboardInterrupt\u001b[0m: "
     ]
    }
   ],
   "source": [
    "df_trec_eval = []\n",
    "\n",
    "for year in [19, 20, 21]:\n",
    "    runs = glob(RUN_DIR + 'hmi-' + str(year) + '*/*')\n",
    "    for run in tqdm(runs):\n",
    "        eval_result = {\n",
    "            'year': year,\n",
    "            'run': run,\n",
    "        }\n",
    "        eval_result.update(trec_eval(year, run))\n",
    "        \n",
    "        df_trec_eval += [eval_result]\n",
    "\n",
    "df_trec_eval = pd.DataFrame(df_trec_eval)"
   ]
  },
  {
   "cell_type": "code",
   "execution_count": 20,
   "id": "567d03ed",
   "metadata": {},
   "outputs": [
    {
     "data": {
      "text/html": [
       "<div>\n",
       "<style scoped>\n",
       "    .dataframe tbody tr th:only-of-type {\n",
       "        vertical-align: middle;\n",
       "    }\n",
       "\n",
       "    .dataframe tbody tr th {\n",
       "        vertical-align: top;\n",
       "    }\n",
       "\n",
       "    .dataframe thead th {\n",
       "        text-align: right;\n",
       "    }\n",
       "</style>\n",
       "<table border=\"1\" class=\"dataframe\">\n",
       "  <thead>\n",
       "    <tr style=\"text-align: right;\">\n",
       "      <th></th>\n",
       "      <th>year</th>\n",
       "      <th>run</th>\n",
       "      <th>unjudged-at-10-helpful</th>\n",
       "      <th>unjudged-at-20-helpful</th>\n",
       "      <th>reciprocal-rank-helpful</th>\n",
       "      <th>reciprocal-rank-unjudged-removed-helpful</th>\n",
       "      <th>ndcg-at-10-rank-helpful</th>\n",
       "      <th>ndcg-at-20-rank-helpful</th>\n",
       "      <th>ndcg-unjudged-removed-at-10-rank-helpful</th>\n",
       "      <th>ndcg-unjudged-removed-at-20-rank-helpful</th>\n",
       "      <th>unjudged-at-10-harmful</th>\n",
       "      <th>unjudged-at-20-harmful</th>\n",
       "      <th>reciprocal-rank-harmful</th>\n",
       "      <th>reciprocal-rank-unjudged-removed-harmful</th>\n",
       "      <th>ndcg-at-10-rank-harmful</th>\n",
       "      <th>ndcg-at-20-rank-harmful</th>\n",
       "      <th>ndcg-unjudged-removed-at-10-rank-harmful</th>\n",
       "      <th>ndcg-unjudged-removed-at-20-rank-harmful</th>\n",
       "    </tr>\n",
       "  </thead>\n",
       "  <tbody>\n",
       "    <tr>\n",
       "      <th>0</th>\n",
       "      <td>19</td>\n",
       "      <td>/mnt/ceph/storage/data-in-progress/data-resear...</td>\n",
       "      <td>1.015385</td>\n",
       "      <td>1.075641</td>\n",
       "      <td>0.659034</td>\n",
       "      <td>0.659034</td>\n",
       "      <td>0.360604</td>\n",
       "      <td>0.345635</td>\n",
       "      <td>0.650210</td>\n",
       "      <td>0.644234</td>\n",
       "      <td>0.865306</td>\n",
       "      <td>0.876531</td>\n",
       "      <td>0.204962</td>\n",
       "      <td>0.204962</td>\n",
       "      <td>0.129669</td>\n",
       "      <td>0.136511</td>\n",
       "      <td>0.587788</td>\n",
       "      <td>0.579890</td>\n",
       "    </tr>\n",
       "    <tr>\n",
       "      <th>1</th>\n",
       "      <td>20</td>\n",
       "      <td>/mnt/ceph/storage/data-in-progress/data-resear...</td>\n",
       "      <td>0.528261</td>\n",
       "      <td>0.643478</td>\n",
       "      <td>0.786177</td>\n",
       "      <td>0.786177</td>\n",
       "      <td>0.475133</td>\n",
       "      <td>0.409722</td>\n",
       "      <td>0.727792</td>\n",
       "      <td>0.717157</td>\n",
       "      <td>1.493750</td>\n",
       "      <td>1.484375</td>\n",
       "      <td>0.083502</td>\n",
       "      <td>0.083502</td>\n",
       "      <td>0.043692</td>\n",
       "      <td>0.056363</td>\n",
       "      <td>0.391297</td>\n",
       "      <td>0.368424</td>\n",
       "    </tr>\n",
       "    <tr>\n",
       "      <th>2</th>\n",
       "      <td>21</td>\n",
       "      <td>/mnt/ceph/storage/data-in-progress/data-resear...</td>\n",
       "      <td>1.000000</td>\n",
       "      <td>1.018571</td>\n",
       "      <td>0.368872</td>\n",
       "      <td>0.368872</td>\n",
       "      <td>0.195928</td>\n",
       "      <td>0.194378</td>\n",
       "      <td>0.433639</td>\n",
       "      <td>0.444448</td>\n",
       "      <td>1.271875</td>\n",
       "      <td>1.281250</td>\n",
       "      <td>0.254788</td>\n",
       "      <td>0.254788</td>\n",
       "      <td>0.127707</td>\n",
       "      <td>0.133032</td>\n",
       "      <td>0.401823</td>\n",
       "      <td>0.398021</td>\n",
       "    </tr>\n",
       "  </tbody>\n",
       "</table>\n",
       "</div>"
      ],
      "text/plain": [
       "   year                                                run  \\\n",
       "0    19  /mnt/ceph/storage/data-in-progress/data-resear...   \n",
       "1    20  /mnt/ceph/storage/data-in-progress/data-resear...   \n",
       "2    21  /mnt/ceph/storage/data-in-progress/data-resear...   \n",
       "\n",
       "   unjudged-at-10-helpful  unjudged-at-20-helpful  reciprocal-rank-helpful  \\\n",
       "0                1.015385                1.075641                 0.659034   \n",
       "1                0.528261                0.643478                 0.786177   \n",
       "2                1.000000                1.018571                 0.368872   \n",
       "\n",
       "   reciprocal-rank-unjudged-removed-helpful  ndcg-at-10-rank-helpful  \\\n",
       "0                                  0.659034                 0.360604   \n",
       "1                                  0.786177                 0.475133   \n",
       "2                                  0.368872                 0.195928   \n",
       "\n",
       "   ndcg-at-20-rank-helpful  ndcg-unjudged-removed-at-10-rank-helpful  \\\n",
       "0                 0.345635                                  0.650210   \n",
       "1                 0.409722                                  0.727792   \n",
       "2                 0.194378                                  0.433639   \n",
       "\n",
       "   ndcg-unjudged-removed-at-20-rank-helpful  unjudged-at-10-harmful  \\\n",
       "0                                  0.644234                0.865306   \n",
       "1                                  0.717157                1.493750   \n",
       "2                                  0.444448                1.271875   \n",
       "\n",
       "   unjudged-at-20-harmful  reciprocal-rank-harmful  \\\n",
       "0                0.876531                 0.204962   \n",
       "1                1.484375                 0.083502   \n",
       "2                1.281250                 0.254788   \n",
       "\n",
       "   reciprocal-rank-unjudged-removed-harmful  ndcg-at-10-rank-harmful  \\\n",
       "0                                  0.204962                 0.129669   \n",
       "1                                  0.083502                 0.043692   \n",
       "2                                  0.254788                 0.127707   \n",
       "\n",
       "   ndcg-at-20-rank-harmful  ndcg-unjudged-removed-at-10-rank-harmful  \\\n",
       "0                 0.136511                                  0.587788   \n",
       "1                 0.056363                                  0.391297   \n",
       "2                 0.133032                                  0.401823   \n",
       "\n",
       "   ndcg-unjudged-removed-at-20-rank-harmful  \n",
       "0                                  0.579890  \n",
       "1                                  0.368424  \n",
       "2                                  0.398021  "
      ]
     },
     "execution_count": 20,
     "metadata": {},
     "output_type": "execute_result"
    }
   ],
   "source": [
    "df_trec_eval"
   ]
  }
 ],
 "metadata": {
  "kernelspec": {
   "display_name": "Python 3 (ipykernel)",
   "language": "python",
   "name": "python3"
  },
  "language_info": {
   "codemirror_mode": {
    "name": "ipython",
    "version": 3
   },
   "file_extension": ".py",
   "mimetype": "text/x-python",
   "name": "python",
   "nbconvert_exporter": "python",
   "pygments_lexer": "ipython3",
   "version": "3.9.7"
  }
 },
 "nbformat": 4,
 "nbformat_minor": 5
}
