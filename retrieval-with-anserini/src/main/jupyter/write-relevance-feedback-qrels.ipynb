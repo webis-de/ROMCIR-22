{
 "cells": [
  {
   "cell_type": "markdown",
   "metadata": {},
   "source": [
    "# Create All qrel files for explicit relevance feedback"
   ]
  },
  {
   "cell_type": "markdown",
   "metadata": {},
   "source": [
    "### Qrels: least_difficult and most_difficult"
   ]
  },
  {
   "cell_type": "code",
   "execution_count": 1,
   "metadata": {},
   "outputs": [
    {
     "name": "stdout",
     "output_type": "stream",
     "text": [
      "Reuse pre-calculated document ranks. Delete the file if you want to calculate it from scratch.\n",
      "Reuse pre-calculated document ranks. Delete the file if you want to calculate it from scratch.\n",
      "Reuse pre-calculated document ranks. Delete the file if you want to calculate it from scratch.\n"
     ]
    }
   ],
   "source": [
    "DIR = '../../../../third-party/health-misinfo-'\n",
    "\n",
    "def initialize_query_difficulty(year):\n",
    "    from trectools import TrecQrel\n",
    "    import pandas as pd\n",
    "    df = TrecQrel(DIR + str(year) + '/misinfo-qrels-graded.helpful-only').qrels_data\n",
    "    df = df[df['rel'] > 0]\n",
    "    ret = {}\n",
    "    \n",
    "    for _, i in df.iterrows():\n",
    "        if i['query'] not in ret:\n",
    "            ret[i['query']] = {}\n",
    "        ret[i['query']][i['docid']] = []\n",
    "    \n",
    "    return ret\n",
    "\n",
    "def calculate_difficulty_of_documents(year):\n",
    "    from glob import glob\n",
    "    from trectools import TrecRun\n",
    "    from tqdm import tqdm\n",
    "    import pandas as pd\n",
    "    import os\n",
    "    run_files = glob(DIR + str(year) + '/runs/*')\n",
    "    if os.path.isfile(DIR + str(year) + '/ranks-of-helpful-documents.jsonl'):\n",
    "        print('Reuse pre-calculated document ranks. Delete the file if you want to calculate it from scratch.')\n",
    "        ret = pd.read_json(DIR + str(year) + '/ranks-of-helpful-documents.jsonl', lines=True)\n",
    "        ret['approaches'] = len(run_files)\n",
    "        \n",
    "        return ret\n",
    "    \n",
    "    ret = initialize_query_difficulty(year)\n",
    "    \n",
    "    for trec_run in tqdm(run_files):\n",
    "        trec_run = TrecRun(trec_run).run_data\n",
    "        for _, i in trec_run.iterrows():\n",
    "            if i['query'] in ret and i['docid'] in ret[i['query']]:\n",
    "                ret[i['query']][i['docid']] = ret[i['query']][i['docid']] + [i['rank']]\n",
    "    \n",
    "    df = []\n",
    "    for query, docs in ret.items():\n",
    "        for doc, importance in docs.items():\n",
    "            df += [{\n",
    "                'query': query,\n",
    "                'q0': 0,\n",
    "                'docid': doc,\n",
    "                'rel': importance,\n",
    "            }]\n",
    "            \n",
    "    return pd.DataFrame(df)\n",
    "\n",
    "def map_to_mrr(i):\n",
    "    ranks = i['rel']\n",
    "    from statistics import mean\n",
    "    ret = []\n",
    "    for pos in range(i['approaches']):\n",
    "        ret += [min(1000, ranks[pos]) if pos< len(ranks) else 1000]\n",
    "    \n",
    "    return mean(ret)\n",
    "\n",
    "def write_difficulty_qrels(year):\n",
    "    ret = calculate_difficulty_of_documents(year)\n",
    "    ret['mrr'] = ret.apply(map_to_mrr, axis=1)\n",
    "    ret = ret.sort_values(['query', 'mrr'], ascending=[True, True])\n",
    "    ret['least_difficult'] = ret.groupby(\"query\")[\"mrr\"].rank(\"dense\", ascending=False)\n",
    "    ret['most_difficult'] = ret.groupby(\"query\")[\"mrr\"].rank(\"dense\", ascending=True)\n",
    "\n",
    "    for col in ['least_difficult', 'most_difficult']:\n",
    "        tmp_col = ret.copy()\n",
    "        tmp_col['rel'] = tmp_col[col].astype(int)\n",
    "        del tmp_col['mrr']\n",
    "        del tmp_col['least_difficult']\n",
    "        del tmp_col['most_difficult']\n",
    "        del tmp_col['approaches']\n",
    "        tmp_col = tmp_col.sort_values(['query', 'rel'], ascending=[True, False])\n",
    "        \n",
    "        tmp_col.to_csv(DIR + str(year) + '/qrels.' + col + '.txt', sep=' ', header=False, index=False)\n",
    "    \n",
    "    return ret\n",
    "\n",
    "for i in [19, 20, 21]:\n",
    "    write_difficulty_qrels(i)"
   ]
  },
  {
   "cell_type": "markdown",
   "metadata": {},
   "source": [
    "### Qrels: Random"
   ]
  },
  {
   "cell_type": "code",
   "execution_count": 13,
   "metadata": {},
   "outputs": [],
   "source": [
    "def write_random_qrels(year):\n",
    "    import random\n",
    "    ret = write_difficulty_qrels(year)\n",
    "    \n",
    "    ret['rand'] = ret['docid'].apply(lambda i: random.random())\n",
    "    ret['rel'] = ret.groupby(\"query\")[\"rand\"].rank(\"dense\", ascending=False).astype(int)\n",
    "    del ret['mrr']\n",
    "    del ret['least_difficult']\n",
    "    del ret['most_difficult']\n",
    "    del ret['approaches']\n",
    "    del ret['rand']\n",
    "    ret = ret.sort_values(['query', 'rel'], ascending=[True, False])\n",
    "    \n",
    "    ret.to_csv(DIR + str(year) + '/qrels.random.txt', sep=' ', header=False, index=False)\n",
    "\n",
    "for i in [19, 20, 21]:\n",
    "    write_random_qrels(i)"
   ]
  },
  {
   "cell_type": "markdown",
   "metadata": {},
   "source": [
    "### Qrels: longest and shortest"
   ]
  },
  {
   "cell_type": "code",
   "execution_count": 2,
   "metadata": {},
   "outputs": [],
   "source": [
    "from pyserini.search import SimpleSearcher\n",
    "INDEX_DIR='/mnt/ceph/storage/data-in-progress/data-research/web-search/romcir22-keyquery/indexes-judged-only/'\n",
    "\n",
    "SEARCHERS = {\n",
    "    19: SimpleSearcher(INDEX_DIR + 'lucene-index.cw12-judged-only-raw'),\n",
    "    20: SimpleSearcher(INDEX_DIR + 'lucene-index.cc-news-20-judged-only-raw'),\n",
    "    21: SimpleSearcher(INDEX_DIR + 'lucene-index.c4noclean'),\n",
    "}\n",
    "\n",
    "def get_document_text(year, doc_id):\n",
    "    ret = SEARCHERS[year].doc(doc_id)\n",
    "    \n",
    "    return ' '.join(ret.contents().split()) if ret else None\n",
    "\n",
    "def get_document_text_length(year, doc_id):\n",
    "    text = get_document_text(year, doc_id)\n",
    "    \n",
    "    return len(text.split()) if text else None"
   ]
  },
  {
   "cell_type": "code",
   "execution_count": 33,
   "metadata": {},
   "outputs": [
    {
     "name": "stdout",
     "output_type": "stream",
     "text": [
      "Urinary Tract Infection,Its Symptoms,Causes, Remedcy & Treatment Urinary Tract Infection Urinary tract infection is a serious problem. It affects mill\n",
      "\n",
      "\n",
      "1064 \n",
      "\n",
      "\n",
      "Vitamin D supplements do not cure or prevent COVID-19 Home News World News Entertainment TV Movies Music People Health Hi-Tech Mobile Gaming Internet \n",
      "\n",
      "\n",
      "603 \n",
      "\n",
      "\n",
      "Achilles Tendon Disorders - Sarasota, FL: Florida Orthopedic Foot & Ankle Center 941-924-8777 Request Appt Home About Practice Meet the Doctors Clinic\n",
      "\n",
      "\n",
      "3175 \n",
      "\n",
      "\n"
     ]
    }
   ],
   "source": [
    "### Some example tests:\n",
    "\n",
    "print(get_document_text(19, 'clueweb12-0109wb-48-31622')[:150] + '\\n\\n')\n",
    "print(get_document_text_length(19, 'clueweb12-0109wb-48-31622'), '\\n\\n')\n",
    "print(get_document_text(20, 'e971787d-4b8c-4c8d-b4ef-890749d996ab')[:150] + '\\n\\n')\n",
    "print(get_document_text_length(20, 'e971787d-4b8c-4c8d-b4ef-890749d996ab'), '\\n\\n')\n",
    "print(get_document_text(21, 'en.noclean.c4-train.02221-of-07168.33922')[:150] + '\\n\\n')\n",
    "print(get_document_text_length(21, 'en.noclean.c4-train.02221-of-07168.33922'), '\\n\\n')"
   ]
  },
  {
   "cell_type": "code",
   "execution_count": 47,
   "metadata": {},
   "outputs": [
    {
     "name": "stdout",
     "output_type": "stream",
     "text": [
      "Reuse pre-calculated document ranks. Delete the file if you want to calculate it from scratch.\n",
      "Reuse pre-calculated document ranks. Delete the file if you want to calculate it from scratch.\n",
      "Reuse pre-calculated document ranks. Delete the file if you want to calculate it from scratch.\n",
      "Reuse pre-calculated document ranks. Delete the file if you want to calculate it from scratch.\n",
      "Reuse pre-calculated document ranks. Delete the file if you want to calculate it from scratch.\n",
      "Reuse pre-calculated document ranks. Delete the file if you want to calculate it from scratch.\n"
     ]
    }
   ],
   "source": [
    "def df_with_length_as_field_qrels(year):\n",
    "    import random\n",
    "    ret = write_difficulty_qrels(year)\n",
    "    \n",
    "    ret['length'] = ret['docid'].apply(lambda i: get_document_text_length(year, i))\n",
    "    ret = ret.dropna()\n",
    "    del ret['mrr']\n",
    "    del ret['least_difficult']\n",
    "    del ret['most_difficult']\n",
    "    del ret['approaches']\n",
    "    \n",
    "    return ret\n",
    "\n",
    "def write_length_qrels(year):\n",
    "    for name, ascending in [('longest', True), ('shortest', False)]:\n",
    "        ret = df_with_length_as_field_qrels(year)\n",
    "        ret['rel'] = ret.groupby('query')['length'].rank(\"dense\", ascending=ascending).astype(int)\n",
    "        del ret['length']\n",
    "        \n",
    "        ret = ret.sort_values(['query', 'rel'], ascending=[True, False])\n",
    "        \n",
    "        ret.to_csv(DIR + str(year) + '/qrels.' + name + '.txt', sep=' ', header=False, index=False)\n",
    "\n",
    "for i in [19, 20, 21]:\n",
    "    write_length_qrels(i)"
   ]
  },
  {
   "cell_type": "markdown",
   "metadata": {},
   "source": [
    "### Test the length qrels"
   ]
  },
  {
   "cell_type": "code",
   "execution_count": 49,
   "metadata": {},
   "outputs": [
    {
     "name": "stdout",
     "output_type": "stream",
     "text": [
      "1 0 clueweb12-0109wb-48-31622 8\n",
      "1 0 clueweb12-0907wb-18-23499 7\n",
      "1 0 clueweb12-1005wb-96-06520 6\n",
      "1 0 clueweb12-0201wb-90-00814 5\n",
      "1 0 clueweb12-1702wb-42-00868 4\n",
      "1 0 clueweb12-1505wb-80-00851 3\n",
      "1 0 clueweb12-0201wb-90-00828 2\n",
      "1 0 clueweb12-1309wb-66-04887 1\n",
      "4 0 clueweb12-1316wb-37-32089 6\n",
      "4 0 clueweb12-0705wb-97-24678 5\n",
      "1064 \n",
      "\n",
      "\n",
      "808 \n",
      "\n",
      "\n",
      "732 \n",
      "\n",
      "\n"
     ]
    }
   ],
   "source": [
    "!head ../../../../third-party/health-misinfo-19/qrels.longest.txt\n",
    "\n",
    "\n",
    "print(get_document_text_length(19, 'clueweb12-0109wb-48-31622'), '\\n\\n')\n",
    "print(get_document_text_length(19, 'clueweb12-0907wb-18-23499'), '\\n\\n')\n",
    "print(get_document_text_length(19, 'clueweb12-0201wb-90-00814'), '\\n\\n')"
   ]
  },
  {
   "cell_type": "code",
   "execution_count": 51,
   "metadata": {},
   "outputs": [
    {
     "name": "stdout",
     "output_type": "stream",
     "text": [
      "1 0 clueweb12-1309wb-66-04887 8\n",
      "1 0 clueweb12-0201wb-90-00828 7\n",
      "1 0 clueweb12-1505wb-80-00851 6\n",
      "1 0 clueweb12-1702wb-42-00868 5\n",
      "1 0 clueweb12-0201wb-90-00814 4\n",
      "1 0 clueweb12-1005wb-96-06520 3\n",
      "1 0 clueweb12-0907wb-18-23499 2\n",
      "1 0 clueweb12-0109wb-48-31622 1\n",
      "4 0 clueweb12-0304wb-45-11445 6\n",
      "4 0 clueweb12-0916wb-93-23970 5\n",
      "434 \n",
      "\n",
      "\n",
      "547 \n",
      "\n",
      "\n",
      "583 \n",
      "\n",
      "\n"
     ]
    }
   ],
   "source": [
    "!head ../../../../third-party/health-misinfo-19/qrels.shortest.txt\n",
    "\n",
    "\n",
    "print(get_document_text_length(19, 'clueweb12-1309wb-66-04887'), '\\n\\n')\n",
    "print(get_document_text_length(19, 'clueweb12-0201wb-90-00828'), '\\n\\n')\n",
    "print(get_document_text_length(19, 'clueweb12-1505wb-80-00851'), '\\n\\n')"
   ]
  },
  {
   "cell_type": "code",
   "execution_count": 53,
   "metadata": {},
   "outputs": [
    {
     "name": "stdout",
     "output_type": "stream",
     "text": [
      "1 0 83bde5b0-ddd1-48ab-b9b6-49d248a6c12f 250\n",
      "1 0 906c45cb-358f-4d1e-9ce5-b7850ce22e2c 249\n",
      "1 0 85be03f1-e06e-41f0-80d2-42d26c758f35 248\n",
      "1 0 107e038c-9baa-4a60-87a1-36bdbdfcb7c1 247\n",
      "1 0 10bbe0d7-8034-4167-a5d8-be8084a0ec0e 246\n",
      "1 0 4e40c027-18d6-43ab-a540-9bc6a762cd61 245\n",
      "1 0 9116281f-c30a-4a0e-99b7-07482d13cb82 244\n",
      "1 0 aa6d6172-e34d-473c-9c76-6c44c405bda9 243\n",
      "1 0 13fa1521-83ea-40ea-b22c-48480e81d546 242\n",
      "1 0 ccfd40a2-4dc8-4861-8021-f04756bd1ad5 241\n",
      "12928 \n",
      "\n",
      "\n",
      "9812 \n",
      "\n",
      "\n",
      "5767 \n",
      "\n",
      "\n"
     ]
    }
   ],
   "source": [
    "!head ../../../../third-party/health-misinfo-20/qrels.longest.txt\n",
    "\n",
    "\n",
    "print(get_document_text_length(20, '83bde5b0-ddd1-48ab-b9b6-49d248a6c12f'), '\\n\\n')\n",
    "print(get_document_text_length(20, '906c45cb-358f-4d1e-9ce5-b7850ce22e2c'), '\\n\\n')\n",
    "print(get_document_text_length(20, '85be03f1-e06e-41f0-80d2-42d26c758f35'), '\\n\\n')"
   ]
  },
  {
   "cell_type": "code",
   "execution_count": 55,
   "metadata": {},
   "outputs": [
    {
     "name": "stdout",
     "output_type": "stream",
     "text": [
      "1 0 8bd01f64-e4af-41cc-9742-ad041c9497b8 250\n",
      "1 0 b5d2b341-0c1f-4f20-bcf9-855d57155001 249\n",
      "1 0 9d28e1bf-cb0a-4975-b1a6-5842a41d350e 248\n",
      "1 0 a0eb055a-0c70-42e8-a487-ac71bf7a02c7 247\n",
      "1 0 c771f702-822d-4ad4-bd90-a7acc9aa80d9 246\n",
      "1 0 a6f304ed-ca1a-4a65-9836-b1b7e45c07a6 245\n",
      "1 0 c8ad91b6-705b-46fa-9673-c3cad1327954 244\n",
      "1 0 60277b81-8d83-4897-9b1d-ab5fda1025c1 243\n",
      "1 0 330e1951-617a-47b6-8d63-1e4ee4789bfd 242\n",
      "1 0 3800ef9f-1654-4485-a6b3-71d60da385ed 241\n",
      "355 \n",
      "\n",
      "\n",
      "429 \n",
      "\n",
      "\n",
      "433 \n",
      "\n",
      "\n"
     ]
    }
   ],
   "source": [
    "!head ../../../../third-party/health-misinfo-20/qrels.shortest.txt\n",
    "\n",
    "\n",
    "print(get_document_text_length(20, '8bd01f64-e4af-41cc-9742-ad041c9497b8'), '\\n\\n')\n",
    "print(get_document_text_length(20, 'b5d2b341-0c1f-4f20-bcf9-855d57155001'), '\\n\\n')\n",
    "print(get_document_text_length(20, '9d28e1bf-cb0a-4975-b1a6-5842a41d350e'), '\\n\\n')"
   ]
  },
  {
   "cell_type": "code",
   "execution_count": 57,
   "metadata": {},
   "outputs": [
    {
     "name": "stdout",
     "output_type": "stream",
     "text": [
      "101 0 en.noclean.c4-train.00871-of-07168.71056 53\n",
      "101 0 en.noclean.c4-train.05309-of-07168.84366 52\n",
      "101 0 en.noclean.c4-train.02836-of-07168.76315 51\n",
      "101 0 en.noclean.c4-train.06990-of-07168.103435 50\n",
      "101 0 en.noclean.c4-train.03364-of-07168.45760 49\n",
      "101 0 en.noclean.c4-train.06983-of-07168.46260 48\n",
      "101 0 en.noclean.c4-train.00922-of-07168.50887 47\n",
      "101 0 en.noclean.c4-train.01681-of-07168.38406 46\n",
      "101 0 en.noclean.c4-train.06476-of-07168.102082 45\n",
      "101 0 en.noclean.c4-train.00444-of-07168.126346 44\n",
      "14396 \n",
      "\n",
      "\n",
      "14219 \n",
      "\n",
      "\n",
      "12988 \n",
      "\n",
      "\n"
     ]
    }
   ],
   "source": [
    "!head ../../../../third-party/health-misinfo-21/qrels.longest.txt\n",
    "\n",
    "\n",
    "print(get_document_text_length(21, 'en.noclean.c4-train.00871-of-07168.71056'), '\\n\\n')\n",
    "print(get_document_text_length(21, 'en.noclean.c4-train.05309-of-07168.84366'), '\\n\\n')\n",
    "print(get_document_text_length(21, 'en.noclean.c4-train.02836-of-07168.76315'), '\\n\\n')"
   ]
  },
  {
   "cell_type": "code",
   "execution_count": 59,
   "metadata": {},
   "outputs": [
    {
     "name": "stdout",
     "output_type": "stream",
     "text": [
      "101 0 en.noclean.c4-train.00619-of-07168.117364 53\n",
      "101 0 en.noclean.c4-train.05248-of-07168.12130 52\n",
      "101 0 en.noclean.c4-train.04820-of-07168.134534 51\n",
      "101 0 en.noclean.c4-train.00119-of-07168.41683 50\n",
      "101 0 en.noclean.c4-train.01604-of-07168.53354 49\n",
      "101 0 en.noclean.c4-train.03685-of-07168.54919 48\n",
      "101 0 en.noclean.c4-train.01864-of-07168.39631 47\n",
      "101 0 en.noclean.c4-train.05096-of-07168.19901 47\n",
      "101 0 en.noclean.c4-train.05198-of-07168.12643 47\n",
      "101 0 en.noclean.c4-train.06643-of-07168.136880 47\n",
      "384 \n",
      "\n",
      "\n",
      "599 \n",
      "\n",
      "\n",
      "607 \n",
      "\n",
      "\n"
     ]
    }
   ],
   "source": [
    "!head ../../../../third-party/health-misinfo-21/qrels.shortest.txt\n",
    "\n",
    "\n",
    "print(get_document_text_length(21, 'en.noclean.c4-train.00619-of-07168.117364'), '\\n\\n')\n",
    "print(get_document_text_length(21, 'en.noclean.c4-train.05248-of-07168.12130'), '\\n\\n')\n",
    "print(get_document_text_length(21, 'en.noclean.c4-train.04820-of-07168.134534'), '\\n\\n')"
   ]
  }
 ],
 "metadata": {
  "kernelspec": {
   "display_name": "Python 3 (ipykernel)",
   "language": "python",
   "name": "python3"
  },
  "language_info": {
   "codemirror_mode": {
    "name": "ipython",
    "version": 3
   },
   "file_extension": ".py",
   "mimetype": "text/x-python",
   "name": "python",
   "nbconvert_exporter": "python",
   "pygments_lexer": "ipython3",
   "version": "3.9.7"
  }
 },
 "nbformat": 4,
 "nbformat_minor": 4
}
